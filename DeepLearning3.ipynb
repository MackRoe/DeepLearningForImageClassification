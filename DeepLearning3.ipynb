{
  "nbformat": 4,
  "nbformat_minor": 0,
  "metadata": {
    "colab": {
      "name": "DeepLearning3.ipynb",
      "provenance": []
    },
    "kernelspec": {
      "name": "python3",
      "display_name": "Python 3"
    }
  },
  "cells": [
    {
      "cell_type": "markdown",
      "metadata": {
        "id": "Gwmc8sX7raSq"
      },
      "source": [
        "# Deep Learning for Image Classification, Part 3\n",
        "Easily viewed in [Google Colab](https://colab.research.google.com/drive/15CU6b_pbAHsRYAsAMBw3dZ2Jh85fe0Fj?usp=sharing). "
      ]
    },
    {
      "cell_type": "markdown",
      "metadata": {
        "id": "8y1HMnQBxdff"
      },
      "source": [
        "### Imports"
      ]
    },
    {
      "cell_type": "code",
      "metadata": {
        "id": "ldpyrC9YriuX"
      },
      "source": [
        "import numpy as np\n",
        "import os"
      ],
      "execution_count": 1,
      "outputs": []
    },
    {
      "cell_type": "markdown",
      "metadata": {
        "id": "DMSuqAN8xr5f"
      },
      "source": [
        "### Read the MedMNIST data sets into a `python dictionary` \n",
        "The `keys` are the names of the MedMNIST data sets <br> \n",
        "The `values` contain the data sets"
      ]
    },
    {
      "cell_type": "code",
      "metadata": {
        "colab": {
          "base_uri": "https://localhost:8080/"
        },
        "id": "Rm21_HVXxYab",
        "outputId": "9441d2ba-4aa5-4670-d39f-1bad6aab4c27"
      },
      "source": [
        "from google.colab import drive\n",
        "drive.mount('/content/drive')"
      ],
      "execution_count": 3,
      "outputs": [
        {
          "output_type": "stream",
          "text": [
            "Mounted at /content/drive\n"
          ],
          "name": "stdout"
        }
      ]
    },
    {
      "cell_type": "code",
      "metadata": {
        "colab": {
          "base_uri": "https://localhost:8080/"
        },
        "id": "UXMxJzsFye30",
        "outputId": "8a0d927a-9aae-4946-d87e-f13b48f6506e"
      },
      "source": [
        "%cd /content/drive/MyDrive/Colab Notebooks/Make School Winter 2021 Intensive\n",
        "%ls"
      ],
      "execution_count": 4,
      "outputs": [
        {
          "output_type": "stream",
          "text": [
            "/content/drive/MyDrive/Colab Notebooks/Make School Winter 2021 Intensive\n",
            " DeepLearning3.ipynb                                        octmnist.npz\n",
            "\"Laine's copy of fashion_MNIST_classification_jcat.ipynb\"\n"
          ],
          "name": "stdout"
        }
      ]
    },
    {
      "cell_type": "code",
      "metadata": {
        "id": "sj9AFMO-zK1h"
      },
      "source": [
        ""
      ],
      "execution_count": null,
      "outputs": []
    }
  ]
}