{
  "nbformat": 4,
  "nbformat_minor": 0,
  "metadata": {
    "colab": {
      "name": "DeepLearning3.ipynb",
      "provenance": []
    },
    "kernelspec": {
      "name": "python3",
      "display_name": "Python 3"
    }
  },
  "cells": [
    {
      "cell_type": "markdown",
      "metadata": {
        "id": "Gwmc8sX7raSq"
      },
      "source": [
        "# Deep Learning for Image Classification, Part 3\n",
        "Easily viewed in [Google Colab](https://colab.research.google.com/drive/15CU6b_pbAHsRYAsAMBw3dZ2Jh85fe0Fj?usp=sharing). "
      ]
    },
    {
      "cell_type": "markdown",
      "metadata": {
        "id": "8y1HMnQBxdff"
      },
      "source": [
        "### Imports"
      ]
    },
    {
      "cell_type": "code",
      "metadata": {
        "id": "ldpyrC9YriuX"
      },
      "source": [
        "import numpy as np\n",
        "import os\n",
        "import matplotlib.pyplot as plt\n",
        "import tensorflow as tf"
      ],
      "execution_count": 29,
      "outputs": []
    },
    {
      "cell_type": "markdown",
      "metadata": {
        "id": "DMSuqAN8xr5f"
      },
      "source": [
        "### Read the selected MedMNIST data set into a `python dictionary` \n"
      ]
    },
    {
      "cell_type": "markdown",
      "metadata": {
        "id": "9iz7gPnZQbdA"
      },
      "source": [
        "Link to dataset description<br>\n",
        "https://www.cell.com/cell/fulltext/S0092-8674(18)30154-5?_returnURL=https%3A%2F%2Flinkinghub.elsevier.com%2Fretrieve%2Fpii%2FS0092867418301545%3Fshowall%3Dtrue"
      ]
    },
    {
      "cell_type": "code",
      "metadata": {
        "colab": {
          "base_uri": "https://localhost:8080/"
        },
        "id": "Rm21_HVXxYab",
        "outputId": "122a503e-3d5a-4552-f0e5-76fbdd948549"
      },
      "source": [
        "from google.colab import drive\n",
        "drive.mount('/content/drive')"
      ],
      "execution_count": 30,
      "outputs": [
        {
          "output_type": "stream",
          "text": [
            "Drive already mounted at /content/drive; to attempt to forcibly remount, call drive.mount(\"/content/drive\", force_remount=True).\n"
          ],
          "name": "stdout"
        }
      ]
    },
    {
      "cell_type": "code",
      "metadata": {
        "colab": {
          "base_uri": "https://localhost:8080/"
        },
        "id": "UXMxJzsFye30",
        "outputId": "40256a5d-2e0d-4cf9-eb07-b2eba57d5e79"
      },
      "source": [
        "%cd /content/drive/MyDrive/Colab Notebooks/Make School Winter 2021 Intensive\n",
        "%ls"
      ],
      "execution_count": 31,
      "outputs": [
        {
          "output_type": "stream",
          "text": [
            "/content/drive/MyDrive/Colab Notebooks/Make School Winter 2021 Intensive\n",
            " DeepLearning3.ipynb                                        octmnist.npz\n",
            "\"Laine's copy of fashion_MNIST_classification_jcat.ipynb\"\n"
          ],
          "name": "stdout"
        }
      ]
    },
    {
      "cell_type": "code",
      "metadata": {
        "id": "sj9AFMO-zK1h"
      },
      "source": [
        "MedMNIST = np.load(\"octmnist.npz\")"
      ],
      "execution_count": 32,
      "outputs": []
    },
    {
      "cell_type": "code",
      "metadata": {
        "colab": {
          "base_uri": "https://localhost:8080/"
        },
        "id": "Po-cUzTl7Imm",
        "outputId": "0102c34c-65f5-4866-c88e-fa74b229690e"
      },
      "source": [
        "print(MedMNIST)"
      ],
      "execution_count": 36,
      "outputs": [
        {
          "output_type": "stream",
          "text": [
            "<numpy.lib.npyio.NpzFile object at 0x7f5d4b2e9940>\n"
          ],
          "name": "stdout"
        }
      ]
    },
    {
      "cell_type": "code",
      "metadata": {
        "colab": {
          "base_uri": "https://localhost:8080/"
        },
        "id": "N9nqFpn87Osb",
        "outputId": "db07d889-8c3e-4add-8598-a9f043799f9f"
      },
      "source": [
        "MedMNIST.files"
      ],
      "execution_count": 37,
      "outputs": [
        {
          "output_type": "execute_result",
          "data": {
            "text/plain": [
              "['train_images',\n",
              " 'val_images',\n",
              " 'test_images',\n",
              " 'train_labels',\n",
              " 'val_labels',\n",
              " 'test_labels']"
            ]
          },
          "metadata": {
            "tags": []
          },
          "execution_count": 37
        }
      ]
    },
    {
      "cell_type": "markdown",
      "metadata": {
        "id": "hLcHwzlk_myU"
      },
      "source": [
        "### Extract Data"
      ]
    },
    {
      "cell_type": "code",
      "metadata": {
        "id": "pbeNnw9c9kl6"
      },
      "source": [
        "train_labels = MedMNIST['train_labels'].squeeze()\n",
        "train_images = MedMNIST['train_images']\n",
        "\n",
        "val_labels = MedMNIST['val_labels'].squeeze()\n",
        "val_images = MedMNIST['val_images']\n",
        "\n",
        "test_labels = MedMNIST['test_labels'].squeeze()\n",
        "test_images = MedMNIST['test_images']"
      ],
      "execution_count": 33,
      "outputs": []
    },
    {
      "cell_type": "markdown",
      "metadata": {
        "id": "NO81-XwGA--0"
      },
      "source": [
        "### Check for correct format"
      ]
    },
    {
      "cell_type": "code",
      "metadata": {
        "colab": {
          "base_uri": "https://localhost:8080/"
        },
        "id": "ZdmEzESd_3oW",
        "outputId": "70f23a26-ae7d-473c-a606-5e85fc0ce685"
      },
      "source": [
        "print(train_labels.shape)\n",
        "print(train_images.shape)"
      ],
      "execution_count": 39,
      "outputs": [
        {
          "output_type": "stream",
          "text": [
            "(97477,)\n",
            "(97477, 28, 28)\n"
          ],
          "name": "stdout"
        }
      ]
    },
    {
      "cell_type": "code",
      "metadata": {
        "colab": {
          "base_uri": "https://localhost:8080/"
        },
        "id": "e3Z98Xt6AgLW",
        "outputId": "4287b977-6874-4ebe-84c5-a29935eb3b24"
      },
      "source": [
        "print(val_labels.shape)\n",
        "print(val_images.shape)"
      ],
      "execution_count": 40,
      "outputs": [
        {
          "output_type": "stream",
          "text": [
            "(10832,)\n",
            "(10832, 28, 28)\n"
          ],
          "name": "stdout"
        }
      ]
    },
    {
      "cell_type": "code",
      "metadata": {
        "colab": {
          "base_uri": "https://localhost:8080/"
        },
        "id": "kxHQLPTWAvIW",
        "outputId": "25fe7b87-3d6f-4ed4-f639-7c3f1b1fc9c0"
      },
      "source": [
        "print(test_labels.shape)\n",
        "print(test_images.shape)"
      ],
      "execution_count": 41,
      "outputs": [
        {
          "output_type": "stream",
          "text": [
            "(1000,)\n",
            "(1000, 28, 28)\n"
          ],
          "name": "stdout"
        }
      ]
    },
    {
      "cell_type": "markdown",
      "metadata": {
        "id": "6yh08CpsJhvl"
      },
      "source": [
        "## Build and Test a Classifier\n",
        "### Preprocess the Data"
      ]
    },
    {
      "cell_type": "code",
      "metadata": {
        "colab": {
          "base_uri": "https://localhost:8080/"
        },
        "id": "O1aBPMfqJfdB",
        "outputId": "1d51ed03-7137-4be4-9356-bbc55f35337c"
      },
      "source": [
        "print(train_labels[0:10])"
      ],
      "execution_count": 42,
      "outputs": [
        {
          "output_type": "stream",
          "text": [
            "[0 3 3 3 0 3 1 0 3 3]\n"
          ],
          "name": "stdout"
        }
      ]
    },
    {
      "cell_type": "code",
      "metadata": {
        "colab": {
          "base_uri": "https://localhost:8080/",
          "height": 265
        },
        "id": "mOoh7OZ-J-qv",
        "outputId": "ad9b1cf2-b933-42ae-d2ee-4bd9cb9f754c"
      },
      "source": [
        "plt.figure()\n",
        "plt.imshow(train_images[50000])\n",
        "\n",
        "plt.grid(False)\n",
        "plt.show()"
      ],
      "execution_count": 43,
      "outputs": [
        {
          "output_type": "display_data",
          "data": {
            "image/png": "[encoded data removed]",
            "text/plain": [
              "<Figure size 432x288 with 1 Axes>"
            ]
          },
          "metadata": {
            "tags": [],
            "needs_background": "light"
          }
        }
      ]
    },
    {
      "cell_type": "markdown",
      "metadata": {
        "id": "YRAtQar3Nx-J"
      },
      "source": [
        "### Scale values to a range of 0 to 1"
      ]
    },
    {
      "cell_type": "code",
      "metadata": {
        "id": "RRn0f0PIM7cp"
      },
      "source": [
        "train_images = train_images / 255.0\n",
        "val_images = val_images / 255.0\n",
        "test_images = test_images / 255.0"
      ],
      "execution_count": 34,
      "outputs": []
    },
    {
      "cell_type": "code",
      "metadata": {
        "colab": {
          "base_uri": "https://localhost:8080/",
          "height": 589
        },
        "id": "QhK8HOnnOEAL",
        "outputId": "d13d1fe4-c1ea-4abb-cc69-67bf49f00329"
      },
      "source": [
        "plt.figure(figsize=(10,10))\n",
        "for i in range(25):\n",
        "    plt.subplot(5,5,i+1)\n",
        "    plt.xticks([])\n",
        "    plt.yticks([])\n",
        "    plt.grid(False)\n",
        "    plt.imshow(train_images[i], cmap=plt.cm.binary)\n",
        "    plt.xlabel(train_labels[i])\n",
        "plt.show()"
      ],
      "execution_count": 35,
      "outputs": [
        {
          "output_type": "display_data",
          "data": {
            "image/png": "[encoded data removed]",
            "text/plain": [
              "<Figure size 720x720 with 25 Axes>"
            ]
          },
          "metadata": {
            "tags": []
          }
        }
      ]
    },
    {
      "cell_type": "markdown",
      "metadata": {
        "id": "carr8TyUPxqP"
      },
      "source": [
        "### Set up layers"
      ]
    },
    {
      "cell_type": "code",
      "metadata": {
        "id": "ig2tYS7bOQ4I"
      },
      "source": [
        "model = tf.keras.Sequential([\n",
        "    tf.keras.layers.Flatten(input_shape=(28, 28)),\n",
        "    tf.keras.layers.Dense(128, activation='relu'),\n",
        "    tf.keras.layers.Dense(4)  # changed from 10 to 4 after the evaluation made in the next cell\n",
        "])"
      ],
      "execution_count": 82,
      "outputs": []
    },
    {
      "cell_type": "code",
      "metadata": {
        "colab": {
          "base_uri": "https://localhost:8080/"
        },
        "id": "iSECkZ38P8x6",
        "outputId": "7cd961a3-3d71-413e-86b9-b8f088acc9dd"
      },
      "source": [
        "unique_labels = set(train_labels)\n",
        "print(unique_labels)"
      ],
      "execution_count": 48,
      "outputs": [
        {
          "output_type": "stream",
          "text": [
            "{0, 1, 2, 3}\n"
          ],
          "name": "stdout"
        }
      ]
    },
    {
      "cell_type": "markdown",
      "metadata": {
        "id": "4P-_MyqLRRX5"
      },
      "source": [
        "### Compile the Model"
      ]
    },
    {
      "cell_type": "code",
      "metadata": {
        "id": "gS4hWfBZQxKf"
      },
      "source": [
        "model.compile(optimizer='adam',\n",
        "              loss=tf.keras.losses.SparseCategoricalCrossentropy(from_logits=True),\n",
        "              metrics=['accuracy'])"
      ],
      "execution_count": 83,
      "outputs": []
    },
    {
      "cell_type": "markdown",
      "metadata": {
        "id": "GYBEbyi6RZVb"
      },
      "source": [
        "### Train the Model"
      ]
    },
    {
      "cell_type": "code",
      "metadata": {
        "colab": {
          "base_uri": "https://localhost:8080/"
        },
        "id": "-aXKKxBURb1l",
        "outputId": "5712a55a-667d-4092-daa5-bcae01d88418"
      },
      "source": [
        "model.fit(train_images, train_labels, epochs=4)"
      ],
      "execution_count": 84,
      "outputs": [
        {
          "output_type": "stream",
          "text": [
            "Epoch 1/4\n",
            "3047/3047 [==============================] - 6s 2ms/step - loss: 1.0230 - accuracy: 0.5929\n",
            "Epoch 2/4\n",
            "3047/3047 [==============================] - 5s 2ms/step - loss: 0.8453 - accuracy: 0.6842\n",
            "Epoch 3/4\n",
            "3047/3047 [==============================] - 5s 2ms/step - loss: 0.7526 - accuracy: 0.7262\n",
            "Epoch 4/4\n",
            "3047/3047 [==============================] - 5s 2ms/step - loss: 0.6933 - accuracy: 0.7494\n"
          ],
          "name": "stdout"
        },
        {
          "output_type": "execute_result",
          "data": {
            "text/plain": [
              "<tensorflow.python.keras.callbacks.History at 0x7f5ced9d4a58>"
            ]
          },
          "metadata": {
            "tags": []
          },
          "execution_count": 84
        }
      ]
    },
    {
      "cell_type": "code",
      "metadata": {
        "colab": {
          "base_uri": "https://localhost:8080/"
        },
        "id": "EpdpDChmR9pH",
        "outputId": "30f08ed3-616b-4bcb-9232-a9b9ea98cca0"
      },
      "source": [
        "val_loss, val_acc = model.evaluate(val_images, val_labels, verbose=2)"
      ],
      "execution_count": 85,
      "outputs": [
        {
          "output_type": "stream",
          "text": [
            "339/339 - 0s - loss: 0.6508 - accuracy: 0.7695\n"
          ],
          "name": "stdout"
        }
      ]
    },
    {
      "cell_type": "markdown",
      "metadata": {
        "id": "gzxup4oiTQh-"
      },
      "source": [
        "## Experiments to Improve the Model\n",
        "<ul>\n",
        "<li>Increase Nodes</li>\n",
        "<li>Decrease Nodes</li>\n",
        "<li>Add a layer</li>\n",
        "<li>Add another layer</li>\n",
        "<li>Position Nodes as decreasing through multiple layers</li>\n",
        "<li>Position Nodes as increasing through multiple layers</li>\n",
        "</ul>"
      ]
    },
    {
      "cell_type": "markdown",
      "metadata": {
        "id": "vk2DFqkpUpvf"
      },
      "source": [
        "### Add a layer"
      ]
    },
    {
      "cell_type": "code",
      "metadata": {
        "id": "qaVsMtvLSwoP"
      },
      "source": [
        "two_layer_model = tf.keras.Sequential([\n",
        "    tf.keras.layers.Flatten(input_shape=(28, 28)),\n",
        "    tf.keras.layers.Dense(128, activation='relu'),\n",
        "    tf.keras.layers.Dense(128, activation=\"relu\"),\n",
        "    tf.keras.layers.Dense(4)\n",
        "])\n"
      ],
      "execution_count": 36,
      "outputs": []
    },
    {
      "cell_type": "code",
      "metadata": {
        "id": "tXkocISbVwYs"
      },
      "source": [
        "two_layer_model.compile(optimizer='adam',\n",
        "              loss=tf.keras.losses.SparseCategoricalCrossentropy(from_logits=True),\n",
        "              metrics=['accuracy'])"
      ],
      "execution_count": 37,
      "outputs": []
    },
    {
      "cell_type": "code",
      "metadata": {
        "colab": {
          "base_uri": "https://localhost:8080/"
        },
        "id": "LiGkodiqVEgf",
        "outputId": "290198bb-9d55-4965-8f3d-95e7235e029b"
      },
      "source": [
        "two_layer_model.fit(train_images, train_labels, epochs=4)"
      ],
      "execution_count": 38,
      "outputs": [
        {
          "output_type": "stream",
          "text": [
            "Epoch 1/4\n",
            "3047/3047 [==============================] - 8s 3ms/step - loss: 1.0089 - accuracy: 0.5950\n",
            "Epoch 2/4\n",
            "3047/3047 [==============================] - 11s 4ms/step - loss: 0.8210 - accuracy: 0.6934\n",
            "Epoch 3/4\n",
            "3047/3047 [==============================] - 7s 2ms/step - loss: 0.7234 - accuracy: 0.7350\n",
            "Epoch 4/4\n",
            "3047/3047 [==============================] - 7s 2ms/step - loss: 0.6681 - accuracy: 0.7574\n"
          ],
          "name": "stdout"
        },
        {
          "output_type": "execute_result",
          "data": {
            "text/plain": [
              "<tensorflow.python.keras.callbacks.History at 0x7f9d9886f5f8>"
            ]
          },
          "metadata": {
            "tags": []
          },
          "execution_count": 38
        }
      ]
    },
    {
      "cell_type": "code",
      "metadata": {
        "colab": {
          "base_uri": "https://localhost:8080/"
        },
        "id": "ep1XgaVeVsOc",
        "outputId": "9acc2834-b9d2-4df2-ecfe-6c713d732bbf"
      },
      "source": [
        "val_loss, val_acc = two_layer_model.evaluate(val_images, val_labels, verbose=2)"
      ],
      "execution_count": 39,
      "outputs": [
        {
          "output_type": "stream",
          "text": [
            "339/339 - 0s - loss: 0.7203 - accuracy: 0.7388\n"
          ],
          "name": "stdout"
        }
      ]
    },
    {
      "cell_type": "markdown",
      "metadata": {
        "id": "Od8YKviDWL5N"
      },
      "source": [
        "<font color=\"red\">\n",
        "Adding a layer decreased the loss from 0.6830 to 0.6258 and increased the accuracy from 0.7542 to 0.7779 , and therefore appears to be <strong>benificial</strong>\n",
        "</font>"
      ]
    },
    {
      "cell_type": "markdown",
      "metadata": {
        "id": "J4g7xS3xW15b"
      },
      "source": [
        "### Add Another Layer"
      ]
    },
    {
      "cell_type": "code",
      "metadata": {
        "id": "ADz-ITkDWJ_G"
      },
      "source": [
        "three_layer_model = tf.keras.Sequential([\n",
        "    tf.keras.layers.Flatten(input_shape=(28, 28)),\n",
        "    tf.keras.layers.Dense(128, activation='relu'),\n",
        "    tf.keras.layers.Dense(128, activation=\"relu\"),\n",
        "    tf.keras.layers.Dense(128, activation=\"relu\"),\n",
        "    tf.keras.layers.Dense(4)\n",
        "])"
      ],
      "execution_count": 60,
      "outputs": []
    },
    {
      "cell_type": "code",
      "metadata": {
        "id": "8eRLxweZXAav"
      },
      "source": [
        "three_layer_model.compile(optimizer='adam',\n",
        "              loss=tf.keras.losses.SparseCategoricalCrossentropy(from_logits=True),\n",
        "              metrics=['accuracy'])"
      ],
      "execution_count": 61,
      "outputs": []
    },
    {
      "cell_type": "code",
      "metadata": {
        "colab": {
          "base_uri": "https://localhost:8080/"
        },
        "id": "W1AIHJMRXE0F",
        "outputId": "5b98e8b3-7bfb-4928-cfc3-2653c9e042fd"
      },
      "source": [
        "three_layer_model.fit(train_images, train_labels, epochs=4)"
      ],
      "execution_count": 81,
      "outputs": [
        {
          "output_type": "stream",
          "text": [
            "Epoch 1/4\n",
            "3047/3047 [==============================] - 7s 2ms/step - loss: 0.5481 - accuracy: 0.8009\n",
            "Epoch 2/4\n",
            "3047/3047 [==============================] - 7s 2ms/step - loss: 0.5373 - accuracy: 0.8063\n",
            "Epoch 3/4\n",
            "3047/3047 [==============================] - 7s 2ms/step - loss: 0.5263 - accuracy: 0.8094\n",
            "Epoch 4/4\n",
            "3047/3047 [==============================] - 7s 2ms/step - loss: 0.5172 - accuracy: 0.8117\n"
          ],
          "name": "stdout"
        },
        {
          "output_type": "execute_result",
          "data": {
            "text/plain": [
              "<tensorflow.python.keras.callbacks.History at 0x7f5cec651be0>"
            ]
          },
          "metadata": {
            "tags": []
          },
          "execution_count": 81
        }
      ]
    },
    {
      "cell_type": "code",
      "metadata": {
        "colab": {
          "base_uri": "https://localhost:8080/"
        },
        "id": "OGekXLXdXJEw",
        "outputId": "1a9439f3-32a2-4a03-cc6b-50e32fdfa798"
      },
      "source": [
        "val_loss, val_acc = three_layer_model.evaluate(val_images, val_labels, verbose=2)"
      ],
      "execution_count": 63,
      "outputs": [
        {
          "output_type": "stream",
          "text": [
            "339/339 - 0s - loss: 0.6334 - accuracy: 0.7682\n"
          ],
          "name": "stdout"
        }
      ]
    },
    {
      "cell_type": "markdown",
      "metadata": {
        "id": "tOENHFXIXh3D"
      },
      "source": [
        "<font color=\"red\">\n",
        "Adding a third layer appears to be <strong>detrimental</strong>. Loss increased from 0.6258 for the two layer model, to 0.6334 and Accuracy decreased from 0.7708 for the two layer model, to 0.7682 .\n",
        "</font>"
      ]
    },
    {
      "cell_type": "markdown",
      "metadata": {
        "id": "pI6U3gtGYZgn"
      },
      "source": [
        "### Increase the Nodes"
      ]
    },
    {
      "cell_type": "code",
      "metadata": {
        "id": "6Coy2cm5XUz4"
      },
      "source": [
        "increased_nodes_model = tf.keras.Sequential([\n",
        "    tf.keras.layers.Flatten(input_shape=(28, 28)),\n",
        "    tf.keras.layers.Dense(256, activation='relu'),\n",
        "    tf.keras.layers.Dense(4)\n",
        "])"
      ],
      "execution_count": 65,
      "outputs": []
    },
    {
      "cell_type": "code",
      "metadata": {
        "id": "kYtjhtN5Ymo_"
      },
      "source": [
        "increased_nodes_model.compile(optimizer='adam',\n",
        "              loss=tf.keras.losses.SparseCategoricalCrossentropy(from_logits=True),\n",
        "              metrics=['accuracy'])"
      ],
      "execution_count": 66,
      "outputs": []
    },
    {
      "cell_type": "code",
      "metadata": {
        "colab": {
          "base_uri": "https://localhost:8080/"
        },
        "id": "xb3daQwmY34x",
        "outputId": "52d1fac6-77b9-42d8-ba11-2f6b857d9332"
      },
      "source": [
        "increased_nodes_model.fit(train_images, train_labels, epochs=4)"
      ],
      "execution_count": 68,
      "outputs": [
        {
          "output_type": "stream",
          "text": [
            "Epoch 1/4\n",
            "3047/3047 [==============================] - 8s 2ms/step - loss: 1.0110 - accuracy: 0.5971\n",
            "Epoch 2/4\n",
            "3047/3047 [==============================] - 7s 2ms/step - loss: 0.8060 - accuracy: 0.7024\n",
            "Epoch 3/4\n",
            "3047/3047 [==============================] - 7s 2ms/step - loss: 0.7128 - accuracy: 0.7411\n",
            "Epoch 4/4\n",
            "3047/3047 [==============================] - 7s 2ms/step - loss: 0.6691 - accuracy: 0.7577\n"
          ],
          "name": "stdout"
        },
        {
          "output_type": "execute_result",
          "data": {
            "text/plain": [
              "<tensorflow.python.keras.callbacks.History at 0x7f5ce31fe3c8>"
            ]
          },
          "metadata": {
            "tags": []
          },
          "execution_count": 68
        }
      ]
    },
    {
      "cell_type": "code",
      "metadata": {
        "colab": {
          "base_uri": "https://localhost:8080/"
        },
        "id": "kWRacStbY_6H",
        "outputId": "fa127d4c-3165-49d2-e3eb-2afa134f4a51"
      },
      "source": [
        "print(\"Original model with nodes at 128:\")\n",
        "val_loss, val_acc = model.evaluate(val_images, val_labels, verbose=2)\n",
        "print(\"Nodes increased to 256:\")\n",
        "val_loss, val_acc = increased_nodes_model.evaluate(val_images, val_labels, verbose=2)"
      ],
      "execution_count": 87,
      "outputs": [
        {
          "output_type": "stream",
          "text": [
            "Original model with nodes at 128:\n",
            "339/339 - 0s - loss: 0.6508 - accuracy: 0.7695\n",
            "Nodes increased to 256:\n",
            "339/339 - 0s - loss: 0.6606 - accuracy: 0.7614\n"
          ],
          "name": "stdout"
        }
      ]
    },
    {
      "cell_type": "markdown",
      "metadata": {
        "id": "gUwmO3nAZTSG"
      },
      "source": [
        "<font color=\"red\">\n",
        "Increasing the number of nodes appears to be <strong>detrimental</strong>. Loss increased from 0.6508 in the original model to 0.6606 and Accuracy decreased from 0.7695 to 0.7614 .\n",
        "</font>"
      ]
    },
    {
      "cell_type": "markdown",
      "metadata": {
        "id": "aTo-12mcdjtW"
      },
      "source": [
        "### Doubly increase the nodes\n"
      ]
    },
    {
      "cell_type": "code",
      "metadata": {
        "id": "Obk2jw39ZOaO"
      },
      "source": [
        "doubly_increased_nodes_model = tf.keras.Sequential([\n",
        "    tf.keras.layers.Flatten(input_shape=(28, 28)),\n",
        "    tf.keras.layers.Dense(512, activation='relu'),\n",
        "    tf.keras.layers.Dense(4)\n",
        "])"
      ],
      "execution_count": 70,
      "outputs": []
    },
    {
      "cell_type": "code",
      "metadata": {
        "id": "dDx_ToM1dsRT"
      },
      "source": [
        "doubly_increased_nodes_model.compile(optimizer='adam',\n",
        "              loss=tf.keras.losses.SparseCategoricalCrossentropy(from_logits=True),\n",
        "              metrics=['accuracy'])"
      ],
      "execution_count": 71,
      "outputs": []
    },
    {
      "cell_type": "code",
      "metadata": {
        "colab": {
          "base_uri": "https://localhost:8080/"
        },
        "id": "RTDyLCSndvvd",
        "outputId": "9f3dc86e-6c2a-4657-94e5-40f4e89337eb"
      },
      "source": [
        "doubly_increased_nodes_model.fit(train_images, train_labels, epochs=4)"
      ],
      "execution_count": 72,
      "outputs": [
        {
          "output_type": "stream",
          "text": [
            "Epoch 1/4\n",
            "3047/3047 [==============================] - 7s 2ms/step - loss: 1.0190 - accuracy: 0.5960\n",
            "Epoch 2/4\n",
            "3047/3047 [==============================] - 7s 2ms/step - loss: 0.8126 - accuracy: 0.6968\n",
            "Epoch 3/4\n",
            "3047/3047 [==============================] - 7s 2ms/step - loss: 0.7179 - accuracy: 0.7393\n",
            "Epoch 4/4\n",
            "3047/3047 [==============================] - 7s 2ms/step - loss: 0.6697 - accuracy: 0.7580\n"
          ],
          "name": "stdout"
        },
        {
          "output_type": "execute_result",
          "data": {
            "text/plain": [
              "<tensorflow.python.keras.callbacks.History at 0x7f5ce210a400>"
            ]
          },
          "metadata": {
            "tags": []
          },
          "execution_count": 72
        }
      ]
    },
    {
      "cell_type": "code",
      "metadata": {
        "colab": {
          "base_uri": "https://localhost:8080/"
        },
        "id": "NEXev48Xdzpq",
        "outputId": "71f931e7-a65f-490a-a7cc-64b5bfeb5d17"
      },
      "source": [
        "print(\"Original model with nodes at 128:\")\n",
        "val_loss, val_acc = model.evaluate(val_images, val_labels, verbose=2)\n",
        "print(\"Nodes increased to 256:\")\n",
        "val_loss, val_acc = increased_nodes_model.evaluate(val_images, val_labels, verbose=2)\n",
        "print(\"Nodes increased to 512:\")\n",
        "val_loss, val_acc = doubly_increased_nodes_model.evaluate(val_images, val_labels, verbose=2)"
      ],
      "execution_count": 86,
      "outputs": [
        {
          "output_type": "stream",
          "text": [
            "Original model with nodes at 128:\n",
            "339/339 - 0s - loss: 0.6508 - accuracy: 0.7695\n",
            "Nodes increased to 256:\n",
            "339/339 - 0s - loss: 0.6606 - accuracy: 0.7614\n",
            "Nodes increased to 512:\n",
            "339/339 - 0s - loss: 0.6725 - accuracy: 0.7569\n"
          ],
          "name": "stdout"
        }
      ]
    },
    {
      "cell_type": "markdown",
      "metadata": {
        "id": "Kdwpc4dEeHmK"
      },
      "source": [
        "<font color=\"red\">\n",
        "<u><strong>Conclusion</u></strong>:<br>\n",
        "Doubly increasing the nodes to 512 appears to also be <strong>detrimental</strong> in comparison to increasing them to 256. It does not decrease the loss or increase the accuracy in comparison to the model with 256 nodes.</font>"
      ]
    },
    {
      "cell_type": "markdown",
      "metadata": {
        "id": "xh5mkukeg4ut"
      },
      "source": [
        "### Decrease the Nodes"
      ]
    },
    {
      "cell_type": "code",
      "metadata": {
        "id": "FAVLIR81eANZ"
      },
      "source": [
        "decreased_nodes_model = tf.keras.Sequential([\n",
        "    tf.keras.layers.Flatten(input_shape=(28, 28)),\n",
        "    tf.keras.layers.Dense(64, activation='relu'),\n",
        "    tf.keras.layers.Dense(4)\n",
        "])"
      ],
      "execution_count": 88,
      "outputs": []
    },
    {
      "cell_type": "code",
      "metadata": {
        "id": "21aYbZaMhVSB"
      },
      "source": [
        "decreased_nodes_model.compile(optimizer='adam',\n",
        "              loss=tf.keras.losses.SparseCategoricalCrossentropy(from_logits=True),\n",
        "              metrics=['accuracy'])"
      ],
      "execution_count": 89,
      "outputs": []
    },
    {
      "cell_type": "code",
      "metadata": {
        "colab": {
          "base_uri": "https://localhost:8080/"
        },
        "id": "wNae0xyWhb1P",
        "outputId": "d3f44694-8294-4684-88a8-662ec0b7f17b"
      },
      "source": [
        "decreased_nodes_model.fit(train_images, train_labels, epochs=4)"
      ],
      "execution_count": 90,
      "outputs": [
        {
          "output_type": "stream",
          "text": [
            "Epoch 1/4\n",
            "3047/3047 [==============================] - 5s 1ms/step - loss: 1.0490 - accuracy: 0.5747\n",
            "Epoch 2/4\n",
            "3047/3047 [==============================] - 4s 1ms/step - loss: 0.8788 - accuracy: 0.6709\n",
            "Epoch 3/4\n",
            "3047/3047 [==============================] - 4s 1ms/step - loss: 0.8076 - accuracy: 0.6996\n",
            "Epoch 4/4\n",
            "3047/3047 [==============================] - 4s 1ms/step - loss: 0.7579 - accuracy: 0.7249\n"
          ],
          "name": "stdout"
        },
        {
          "output_type": "execute_result",
          "data": {
            "text/plain": [
              "<tensorflow.python.keras.callbacks.History at 0x7f5ce8e50278>"
            ]
          },
          "metadata": {
            "tags": []
          },
          "execution_count": 90
        }
      ]
    },
    {
      "cell_type": "code",
      "metadata": {
        "colab": {
          "base_uri": "https://localhost:8080/"
        },
        "id": "c-iUjtZqhhKn",
        "outputId": "7bf2f60c-5caa-4b39-8b43-cb178b00ce7d"
      },
      "source": [
        "print(\"Original model with nodes at 128:\")\n",
        "val_loss, val_acc = model.evaluate(val_images, val_labels, verbose=2)\n",
        "print(\"Nodes decreased to 64:\")\n",
        "val_loss, val_acc = decreased_nodes_model.evaluate(val_images, val_labels, verbose=2)"
      ],
      "execution_count": 91,
      "outputs": [
        {
          "output_type": "stream",
          "text": [
            "Original model with nodes at 128:\n",
            "339/339 - 0s - loss: 0.6508 - accuracy: 0.7695\n",
            "Nodes decreased to 64:\n",
            "339/339 - 0s - loss: 0.7163 - accuracy: 0.7391\n"
          ],
          "name": "stdout"
        }
      ]
    },
    {
      "cell_type": "markdown",
      "metadata": {
        "id": "0H7UPOZwiJxX"
      },
      "source": [
        "<font color=\"red\">\n",
        "<u><strong>Conclusion</u></strong>:<br>\n",
        "Decreasing the nodes is <strong>detrimental</strong> because it increases the loss and decreases the accuracy. <strong>128</strong> is the ideal number of nodes on which to model this dataset, when using a single layer.\n",
        "</font>"
      ]
    },
    {
      "cell_type": "markdown",
      "metadata": {
        "id": "6zWGAzg9jVv4"
      },
      "source": [
        "### Double layers with decreasing nodes"
      ]
    },
    {
      "cell_type": "code",
      "metadata": {
        "id": "fvQPTTXNiFSk"
      },
      "source": [
        "two_layer_decreasing_nodes_model = tf.keras.Sequential([\n",
        "    tf.keras.layers.Flatten(input_shape=(28, 28)),\n",
        "    tf.keras.layers.Dense(128, activation='relu'),\n",
        "    tf.keras.layers.Dense(64, activation=\"relu\"),\n",
        "    tf.keras.layers.Dense(4)\n",
        "])"
      ],
      "execution_count": 17,
      "outputs": []
    },
    {
      "cell_type": "code",
      "metadata": {
        "id": "FLCkhaJwjqLf"
      },
      "source": [
        "two_layer_decreasing_nodes_model.compile(optimizer='adam',\n",
        "              loss=tf.keras.losses.SparseCategoricalCrossentropy(from_logits=True),\n",
        "              metrics=['accuracy'])"
      ],
      "execution_count": 18,
      "outputs": []
    },
    {
      "cell_type": "code",
      "metadata": {
        "colab": {
          "base_uri": "https://localhost:8080/"
        },
        "id": "mwdVeWanjyjB",
        "outputId": "aa43fbcf-1e17-416d-ed99-f3aa101dd689"
      },
      "source": [
        "two_layer_decreasing_nodes_model.fit(train_images, train_labels, epochs=4)"
      ],
      "execution_count": 19,
      "outputs": [
        {
          "output_type": "stream",
          "text": [
            "Epoch 1/4\n",
            "3047/3047 [==============================] - 7s 2ms/step - loss: 1.0150 - accuracy: 0.5929\n",
            "Epoch 2/4\n",
            "3047/3047 [==============================] - 6s 2ms/step - loss: 0.8165 - accuracy: 0.6945\n",
            "Epoch 3/4\n",
            "3047/3047 [==============================] - 6s 2ms/step - loss: 0.7115 - accuracy: 0.7415\n",
            "Epoch 4/4\n",
            "3047/3047 [==============================] - 6s 2ms/step - loss: 0.6584 - accuracy: 0.7616\n"
          ],
          "name": "stdout"
        },
        {
          "output_type": "execute_result",
          "data": {
            "text/plain": [
              "<tensorflow.python.keras.callbacks.History at 0x7f9d9adc04a8>"
            ]
          },
          "metadata": {
            "tags": []
          },
          "execution_count": 19
        }
      ]
    },
    {
      "cell_type": "code",
      "metadata": {
        "colab": {
          "base_uri": "https://localhost:8080/"
        },
        "id": "jOUgE5dmj5gL",
        "outputId": "0f237302-ad7c-408d-c704-9c67bcf01d36"
      },
      "source": [
        "print(\"Double layers with nodes at 128 in both layers: \")\n",
        "val_loss, val_acc = two_layer_model.evaluate(val_images, val_labels, verbose=2)\n",
        "print(\"Double layers with nodes at 128 in first layer and 64 in second layer:\")\n",
        "val_loss, val_acc = two_layer_decreasing_nodes_model.evaluate(val_images, val_labels, verbose=2)"
      ],
      "execution_count": 20,
      "outputs": [
        {
          "output_type": "stream",
          "text": [
            "Double layers with nodes at 128 in both layers: \n",
            "339/339 - 0s - loss: 0.6088 - accuracy: 0.7779\n",
            "Double layers with nodes at 128 in first layer and 64 in second layer:\n",
            "339/339 - 0s - loss: 0.6622 - accuracy: 0.7581\n"
          ],
          "name": "stdout"
        }
      ]
    },
    {
      "cell_type": "markdown",
      "metadata": {
        "id": "azWPBwH_ksgh"
      },
      "source": [
        "<font color=\"red\">\n",
        "<strong><u>Conclusion</u>:</strong><br>\n",
        "The ideal number of nodes per layer for this dataset is <strong>128</strong> and the ideal number of layers is <strong>two</strong>.\n",
        "</font>"
      ]
    },
    {
      "cell_type": "markdown",
      "metadata": {
        "id": "xm_iVeWSsdP2"
      },
      "source": [
        "## Run the Test\n",
        "### Make Predictions"
      ]
    },
    {
      "cell_type": "code",
      "metadata": {
        "id": "icipWu7vkoyP"
      },
      "source": [
        "probability_model = tf.keras.Sequential([two_layer_model, \n",
        "                                         tf.keras.layers.Softmax()])"
      ],
      "execution_count": 40,
      "outputs": []
    },
    {
      "cell_type": "code",
      "metadata": {
        "id": "Ae7HxuT0tkfZ"
      },
      "source": [
        "predictions = probability_model.predict(test_images)"
      ],
      "execution_count": 41,
      "outputs": []
    },
    {
      "cell_type": "code",
      "metadata": {
        "colab": {
          "base_uri": "https://localhost:8080/"
        },
        "id": "zarnc29ytp_6",
        "outputId": "0fcd1997-639e-4299-9efa-186ae369ffbc"
      },
      "source": [
        "predictions[0]"
      ],
      "execution_count": 42,
      "outputs": [
        {
          "output_type": "execute_result",
          "data": {
            "text/plain": [
              "array([0.8461834 , 0.01719992, 0.0653709 , 0.07124573], dtype=float32)"
            ]
          },
          "metadata": {
            "tags": []
          },
          "execution_count": 42
        }
      ]
    },
    {
      "cell_type": "code",
      "metadata": {
        "colab": {
          "base_uri": "https://localhost:8080/"
        },
        "id": "BaJDxXuutx8w",
        "outputId": "c9d1f87c-4f08-41dd-bfb0-0c1f13428ef4"
      },
      "source": [
        "np.argmax(predictions[0])\n"
      ],
      "execution_count": 43,
      "outputs": [
        {
          "output_type": "execute_result",
          "data": {
            "text/plain": [
              "0"
            ]
          },
          "metadata": {
            "tags": []
          },
          "execution_count": 43
        }
      ]
    },
    {
      "cell_type": "code",
      "metadata": {
        "colab": {
          "base_uri": "https://localhost:8080/"
        },
        "id": "eGFMeGbBt5Rm",
        "outputId": "9683d2f3-f760-4b76-b80c-ff956817c7bb"
      },
      "source": [
        "test_labels[0]"
      ],
      "execution_count": 44,
      "outputs": [
        {
          "output_type": "execute_result",
          "data": {
            "text/plain": [
              "3"
            ]
          },
          "metadata": {
            "tags": []
          },
          "execution_count": 44
        }
      ]
    },
    {
      "cell_type": "code",
      "metadata": {
        "id": "mj-9tHk-uBMN"
      },
      "source": [
        "def plot_image(i, predictions_array, true_label, img):\n",
        "  true_label, img = true_label[i], img[i]\n",
        "  plt.grid(False)\n",
        "  plt.xticks([])\n",
        "  plt.yticks([])\n",
        "\n",
        "  plt.imshow(img, cmap=plt.cm.binary)\n",
        "\n",
        "  predicted_label = np.argmax(predictions_array)\n",
        "  if predicted_label == true_label:\n",
        "    color = 'blue'\n",
        "  else:\n",
        "    color = 'red'\n",
        "\n",
        "  plt.xlabel(\"{} {:2.0f}% ({})\".format(predicted_label,\n",
        "                                100*np.max(predictions_array),\n",
        "                                true_label),\n",
        "                                color=color)\n",
        "\n",
        "def plot_value_array(i, predictions_array, true_label):\n",
        "  true_label = true_label[i]\n",
        "  plt.grid(False)\n",
        "  plt.xticks(range(4))\n",
        "  plt.yticks([])\n",
        "  thisplot = plt.bar(range(4), predictions_array, color=\"#777777\")\n",
        "  plt.ylim([0, 1])\n",
        "  predicted_label = np.argmax(predictions_array)\n",
        "\n",
        "  thisplot[predicted_label].set_color('red')\n",
        "  thisplot[true_label].set_color('blue')"
      ],
      "execution_count": 47,
      "outputs": []
    },
    {
      "cell_type": "code",
      "metadata": {
        "colab": {
          "base_uri": "https://localhost:8080/",
          "height": 656
        },
        "id": "U49MGpyruX9h",
        "outputId": "672e8f82-5978-432c-bb26-fc3131bc6019"
      },
      "source": [
        "num_rows = 5\n",
        "num_cols = 3\n",
        "num_images = num_rows*num_cols\n",
        "plt.figure(figsize=(2*2*num_cols, 2*num_rows))\n",
        "for i in range(num_images):\n",
        "  plt.subplot(num_rows, 2*num_cols, 2*i+1)\n",
        "  plot_image(i, predictions[i], test_labels, test_images)\n",
        "  plt.subplot(num_rows, 2*num_cols, 2*i+2)\n",
        "  plot_value_array(i, predictions[i], test_labels)\n",
        "plt.tight_layout()\n",
        "plt.show()"
      ],
      "execution_count": 48,
      "outputs": [
        {
          "output_type": "display_data",
          "data": {
            "image/png": "[encoded data removed]",
            "text/plain": [
              "<Figure size 864x720 with 30 Axes>"
            ]
          },
          "metadata": {
            "tags": [],
            "needs_background": "light"
          }
        }
      ]
    },
    {
      "cell_type": "code",
      "metadata": {
        "id": "7si3Kw0Furx_"
      },
      "source": [
        ""
      ],
      "execution_count": null,
      "outputs": []
    }
  ]
}